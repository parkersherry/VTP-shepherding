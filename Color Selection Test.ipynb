{
 "cells": [
  {
   "cell_type": "code",
   "execution_count": 22,
   "id": "011f9973-ef6b-42ec-a428-64122716aeee",
   "metadata": {},
   "outputs": [],
   "source": [
    "# import the necessary packages\n",
    "from scipy.spatial import distance as dist  # provides functions for computing distances\n",
    "from collections import OrderedDict \n",
    "import numpy as np  # y'all already know\n",
    "from __future__ import print_function\n",
    "import cv2 as cv\n",
    "import argparse\n",
    "import random as rng\n",
    "import matplotlib.pyplot as plt"
   ]
  },
  {
   "cell_type": "code",
   "execution_count": 30,
   "id": "54c88235-c030-4bee-9601-734e7a76c21e",
   "metadata": {},
   "outputs": [],
   "source": [
    "frame = cv.imread('spheres_pic.png', cv.IMREAD_COLOR)\n",
    "hsv = cv.cvtColor(frame, cv.COLOR_BGR2HSV)\n",
    "sensitivity = 50\n",
    "lower_white = np.array([0, 0, 255-sensitivity])\n",
    "upper_white = np.array([255, sensitivity, 255])\n",
    "mask = cv.inRange(hsv, lower_white, upper_white)\n",
    "inv_mask = cv.bitwise_not(mask)\n",
    "\n",
    "frame = cv.bitwise_and(frame, frame, mask = inv_mask)\n",
    "\n",
    "cv.imshow('frame', frame)\n",
    "\n",
    "cv.waitKey(0)   \n",
    "cv.destroyAllWindows()"
   ]
  }
 ],
 "metadata": {
  "kernelspec": {
   "display_name": "Python [conda env:base] *",
   "language": "python",
   "name": "conda-base-py"
  },
  "language_info": {
   "codemirror_mode": {
    "name": "ipython",
    "version": 3
   },
   "file_extension": ".py",
   "mimetype": "text/x-python",
   "name": "python",
   "nbconvert_exporter": "python",
   "pygments_lexer": "ipython3",
   "version": "3.13.5"
  }
 },
 "nbformat": 4,
 "nbformat_minor": 5
}
