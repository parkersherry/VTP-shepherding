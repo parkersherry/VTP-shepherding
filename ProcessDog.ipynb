{
 "cells": [
  {
   "cell_type": "code",
   "execution_count": 2,
   "id": "1025dd57",
   "metadata": {},
   "outputs": [],
   "source": [
    "from scipy.spatial import distance as dist  # provides functions for computing distances\n",
    "from scipy.spatial import Voronoi\n",
    "from shapely.geometry import Polygon\n",
    "import pickle\n",
    "from collections import OrderedDict \n",
    "import numpy as np  # y'all already know\n",
    "from __future__ import print_function\n",
    "import cv2 as cv\n",
    "import argparse\n",
    "import random as rng\n",
    "import matplotlib.pyplot as plt"
   ]
  },
  {
   "cell_type": "code",
   "execution_count": 3,
   "id": "9b0dd6c8",
   "metadata": {},
   "outputs": [],
   "source": [
    "def getHeights(filename,videoNumber):\n",
    "    #vids are ordered chronologically\n",
    "    colToUse = {1:(1,2),2:(4,5),3:(7,8),4:(10,11)}\n",
    "    \n",
    "    data = np.genfromtxt(filename, delimiter = \",\",skip_header = 1,usecols = colToUse[videoNumber])\n",
    "    altitude = data[:,0]\n",
    "    altitude = altitude-altitude[0]\n",
    "    isVideo = data[:,1]\n",
    "    altitude = altitude[~np.isnan(altitude)]\n",
    "    altitude = altitude*0.3048\n",
    "    isVideo = isVideo[0:np.size(altitude)]\n",
    "    if not (videoNumber==1):\n",
    "        minIndex = np.min(np.where(isVideo==1))\n",
    "        altitude = altitude[minIndex:]\n",
    "        isVideo = isVideo[minIndex:]\n",
    "    return altitude,isVideo\n",
    "\n",
    "def pixelMeterRatio(height,frameShape):\n",
    "    #outputs a number in meters/pixels\n",
    "    \n",
    "    #focal length 35mm\n",
    "    #\n",
    "    sensorWidth = np.sqrt(7.65**2-4.55**2)/1000\n",
    "    sensorHeight = 4.55/1000\n",
    "    #Horiz GSD\n",
    "    #(height * Sensor Width) / (Focal Length * frameWidth)\n",
    "    #Vertical GSD:\n",
    "    #(height * Sensor Height) / (Focal Length * FrameHeight)\n",
    "    \n",
    "    horizGSD = (height*sensorWidth)/(0.035*frameShape[1])\n",
    "    VerticalGSD = (height*sensorHeight)/(0.035*frameShape[0])\n",
    "    \n",
    "#     initialAltitude = 6.889764004*0.3048\n",
    "#   initialAltitude/(height*474)\n",
    "    return (horizGSD,VerticalGSD)"
   ]
  },
  {
   "cell_type": "code",
   "execution_count": 17,
   "id": "29b1cccf",
   "metadata": {},
   "outputs": [],
   "source": [
    "def get_Displacements(tArr,Xarr,Yarr,heights,frameShape):\n",
    "\n",
    "    Displacements = np.zeros((np.size(tArr),4))\n",
    "    \n",
    "    hIndex = 0\n",
    "    for t in range(np.size(tArr)):\n",
    "            \n",
    "        if t == 0:\n",
    "            continue\n",
    "        else:\n",
    "            if t%3==0:\n",
    "                hIndex+=1\n",
    "            h = heights[hIndex]\n",
    "            conversion = pixelMeterRatio(h,frameShape)\n",
    "                \n",
    "            x0,y0 = Xarr[t-1],Yarr[t-1]\n",
    "            x1,y1 = Xarr[t],Yarr[t]\n",
    "                \n",
    "                \n",
    "                \n",
    "#                 r = np.sqrt((x0-medianX)**2 + (y0-medianY)**2)\n",
    "                \n",
    "            dt = 0.03\n",
    "            u_x = conversion[0]*(x1 - x0)/dt\n",
    "            u_y = conversion[1]*(y1 - y0)/dt\n",
    "                \n",
    "                \n",
    "            u_mag = np.sqrt(u_x**2 + u_y**2)\n",
    "#                 apparentSize = u_mag\n",
    "#                 if (apparentSize == 0):\n",
    "#                     new_items = np.array([dictionary[k][t, 0], u_x, u_y, u_mag])\n",
    "#                     continue\n",
    "#                 actualSize = np.sqrt(r**2+h**2)*apparentSize/(h*np.cos(np.atan(r/h)))\n",
    "#                 u_x = u_x*actualSize/apparentSize\n",
    "#                 u_y = u_y*actualSize/apparentSize\n",
    "#                 u_mag = actualSize\n",
    "                \n",
    "                \n",
    "            Displacements[t,:] = np.array([tArr[t], u_x, u_y, u_mag])\n",
    "\n",
    "    \n",
    "    return Displacements"
   ]
  },
  {
   "cell_type": "code",
   "execution_count": 18,
   "id": "a92eb7ec",
   "metadata": {},
   "outputs": [],
   "source": [
    "def datax(filename):\n",
    "    datax = np.genfromtxt(filename, delimiter = \",\",skip_header = 2)\n",
    "    X = []\n",
    "    Y = []\n",
    "    t = []\n",
    "    for row in datax:\n",
    "        t.append(row[0])\n",
    "        X.append(row[1])\n",
    "        Y.append(row[2])\n",
    "    return np.array(t),np.array(X),np.array(Y)\n"
   ]
  },
  {
   "cell_type": "code",
   "execution_count": 33,
   "id": "6c771e57",
   "metadata": {},
   "outputs": [],
   "source": [
    "fname = \"altitudeVideo.csv\"\n",
    "altitude,isVideo = getHeights(fname,4)\n",
    "\n",
    "\n",
    "clipNumToFrameStartVideoNum = {1:(64*30,4),2:(125*30,4),3:(298*30,4),\n",
    "                               4:(389*30,4),5:(409*30,4),6:(438*30,4),\n",
    "                               8:(496*30,4),9:(520*30,4),10:(535*30,4),\n",
    "                               11:(555*30,4),12:(624*30,4)}\n",
    "frameShape = (1920,1080)\n",
    "\n",
    "allDisplacements = []\n",
    "\n",
    "for counter in range(1,13):\n",
    "    if counter==7:\n",
    "        continue\n",
    "\n",
    "    fname = \"/Users/mikey/Summer 2025/MatlabGitVTP/Dog Motion Csvs/13_02_clip\"+str(counter)+\"_dog.csv\"\n",
    "    tArr,Xarr,Yarr = datax(fname)\n",
    "    frameStart = clipNumToFrameStartVideoNum[counter][0]\n",
    "    vidNum = clipNumToFrameStartVideoNum[counter][1]\n",
    "    timesinceVidStart = int(np.floor(frameStart/3))\n",
    "    heights = altitude[timesinceVidStart:]\n",
    "    \n",
    "    U = get_Displacements(tArr,Xarr,Yarr,heights,frameShape)\n",
    "    allDisplacements.append(U)"
   ]
  },
  {
   "cell_type": "code",
   "execution_count": 34,
   "id": "5507f9f4",
   "metadata": {},
   "outputs": [],
   "source": [
    "vAvgs = []\n",
    "vStds = []\n",
    "vMax = []\n",
    "for disp in allDisplacements:\n",
    "    tempArr = disp[:,3]\n",
    "#     q1 = np.percentile(tempArr, 25)\n",
    "#     q3 = np.percentile(tempArr, 75)\n",
    "#     iqr = q3 - q1\n",
    "#     h = (iqr*np.power(np.size(tempArr),-1/3))\n",
    "#     if h!=0:\n",
    "#         numBins = int(np.round((np.max(tempArr)-np.min(tempArr))/h))\n",
    "#     else:\n",
    "#         numBins=10\n",
    "    m = np.mean(tempArr)\n",
    "    s = np.std(tempArr)\n",
    "    vAvgs.append(m)\n",
    "    vStds.append(s)\n",
    "    vMax.append(m+3*s)\n",
    "vAvgs = np.array(vAvgs)\n",
    "vStds = np.array(vStds)\n",
    "vMax = np.array(vMax)"
   ]
  },
  {
   "cell_type": "code",
   "execution_count": 35,
   "id": "a347269c",
   "metadata": {},
   "outputs": [
    {
     "data": {
      "image/png": "[encoded data removed]",
      "text/plain": [
       "<Figure size 640x480 with 1 Axes>"
      ]
     },
     "metadata": {},
     "output_type": "display_data"
    }
   ],
   "source": [
    "x = np.array([1,2,3,4,5,6,7,8,9,10,11])\n",
    "plt.scatter(x,vAvgs)\n",
    "plt.scatter(x,vStds)\n",
    "plt.show()"
   ]
  },
  {
   "cell_type": "code",
   "execution_count": 36,
   "id": "4964e6e2",
   "metadata": {},
   "outputs": [
    {
     "data": {
      "text/plain": [
       "(array([3., 1., 3., 1., 2., 0., 1.]),\n",
       " array([0.58224232, 0.93541059, 1.28857886, 1.64174713, 1.9949154 ,\n",
       "        2.34808367, 2.70125194, 3.05442021]),\n",
       " <BarContainer object of 7 artists>)"
      ]
     },
     "execution_count": 36,
     "metadata": {},
     "output_type": "execute_result"
    },
    {
     "data": {
      "image/png": "[encoded data removed]",
      "text/plain": [
       "<Figure size 640x480 with 1 Axes>"
      ]
     },
     "metadata": {},
     "output_type": "display_data"
    }
   ],
   "source": [
    "plt.hist(vMax,bins=7)"
   ]
  },
  {
   "cell_type": "code",
   "execution_count": 37,
   "id": "41519fab",
   "metadata": {},
   "outputs": [
    {
     "name": "stdout",
     "output_type": "stream",
     "text": [
      "1.5307740677166393\n"
     ]
    }
   ],
   "source": [
    "print(np.mean(vMax))"
   ]
  },
  {
   "cell_type": "code",
   "execution_count": null,
   "id": "e360ca82",
   "metadata": {},
   "outputs": [],
   "source": []
  }
 ],
 "metadata": {
  "kernelspec": {
   "display_name": "Python 3 (ipykernel)",
   "language": "python",
   "name": "python3"
  },
  "language_info": {
   "codemirror_mode": {
    "name": "ipython",
    "version": 3
   },
   "file_extension": ".py",
   "mimetype": "text/x-python",
   "name": "python",
   "nbconvert_exporter": "python",
   "pygments_lexer": "ipython3",
   "version": "3.11.4"
  }
 },
 "nbformat": 4,
 "nbformat_minor": 5
}
